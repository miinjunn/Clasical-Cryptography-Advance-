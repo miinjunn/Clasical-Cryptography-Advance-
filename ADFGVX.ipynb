{
 "cells": [
  {
   "cell_type": "markdown",
   "metadata": {},
   "source": [
    "## **Enkripsi** <br>\n",
    "\n",
    "> Ekspektasi:  \n",
    "Plaintext \t: munjin wilhelm  \n",
    "Key \t\t: rhien  \n",
    "\n",
    "> Ciphertext \t: DVGDAXGXDDGAGADAGVXGGXAGXX"
   ]
  },
  {
   "cell_type": "code",
   "execution_count": 1,
   "metadata": {},
   "outputs": [
    {
     "name": "stdout",
     "output_type": "stream",
     "text": [
      "Ciphertext \t: DVGDAXGXDDGAGADAGVXGGXAGXX\n"
     ]
    }
   ],
   "source": [
    "from math import ceil\n",
    "from itertools import zip_longest\n",
    "\n",
    "def encode(plain, key):\n",
    "\n",
    "  # database untuk substitusi\n",
    "  alp =      [[\"8\",\"p\",\"3\",\"d\",\"1\",\"n\"],\n",
    "              [\"l\",\"t\",\"4\",\"o\",\"a\",\"h\"],\n",
    "              [\"7\",\"k\",\"b\",\"c\",\"5\",\"z\"],\n",
    "              [\"j\",\"u\",\"6\",\"w\",\"g\",\"m\"],\n",
    "              [\"x\",\"s\",\"v\",\"i\",\"r\",\"2\"],\n",
    "              [\"9\",\"e\",\"y\",\"0\",\"f\",\"q\"]]\n",
    "\n",
    "  acuan_cipher = \"ADFGVX\"\n",
    "  dict_translate = {}\n",
    "\n",
    "  for i in range(len(alp)):\n",
    "    for j in range(len(alp)):\n",
    "      dict_translate[alp[i][j]] = acuan_cipher[i]+acuan_cipher[j]\n",
    "\n",
    "  # gabung sring\n",
    "  plain = \"\".join([i for i in plain if i.isalpha() or i.isdigit()])\n",
    "  plain = \"\".join([dict_translate[i] for i in plain])\n",
    "\n",
    "  # Pisahkan string asli dan transpose\n",
    "  n = len(key)\n",
    "  m = ceil(len(plain)/len(key))\n",
    "  l = []\n",
    "\n",
    "  for i in range(m):\n",
    "    l.append(plain[i*n:(i+1)*n])\n",
    "\n",
    "  l = [\"\".join(i) for i in zip_longest(*l, fillvalue=\"\")]\n",
    "\n",
    "  # rearrange string dengan urutan abjad\n",
    "  dict = {}\n",
    "  print(\"Ciphertext \\t: \", end= \"\")\n",
    "  \n",
    "  for i in range(n):\n",
    "    dict[key[i]] = l[i]\n",
    "\n",
    "  l = sorted(dict.items(), key=lambda x:x[0])\n",
    "  final = print(\"\".join([i[1] for i in l]))\n",
    "  return final\n",
    "\n",
    "# main\n",
    "plain = input(\"Plaintext \\t: \").lower().replace(\" \",\"\")\n",
    "key = input(\"Key \\t\\t: \").lower().replace(\" \",\"\")\n",
    "encode(plain,key)"
   ]
  },
  {
   "cell_type": "markdown",
   "metadata": {},
   "source": [
    "## **Dekripsi** <br>\n",
    "\n",
    "> Ekspektasi:  \n",
    "Ciphertext \t: DVGDAXGXDDGAGADAGVXGGXAGXX  \n",
    "Key \t\t: RHIEN  \n",
    "\n",
    "> Plaintext \t: munjinwilhelm"
   ]
  },
  {
   "cell_type": "code",
   "execution_count": 2,
   "metadata": {},
   "outputs": [
    {
     "name": "stdout",
     "output_type": "stream",
     "text": [
      "Plaintext \t: munjinwilhelm\n"
     ]
    }
   ],
   "source": [
    "from math import ceil\n",
    "from itertools import zip_longest\n",
    "\n",
    "def decode(cipher, key):\n",
    "\n",
    "  m = len(cipher)\n",
    "  n = len(key)\n",
    "\n",
    "  a = m//n\n",
    "  b = m%n\n",
    "\n",
    "  dict = {}\n",
    "\n",
    "  for i in range(n):\n",
    "    if i < b:\n",
    "      dict[key[i]] = a+1\n",
    "    else:\n",
    "      dict[key[i]] = a\n",
    "\n",
    "  # l：Jumlah karakter yang sesuai dengan huruf berbeda yang sesuai dengan alfabet\n",
    "  l = [i[1] for i in sorted(dict.items(), key=lambda x:x[0])]\n",
    "\n",
    "  # new_l：membagi cipher sesuai dengan nomor yang benar\n",
    "  new_l = []\n",
    "  ind_s, ind_e = 0,0\n",
    "  for i in l:\n",
    "    ind_e += i\n",
    "    new_l.append(cipher[ind_s:ind_e])\n",
    "    ind_s += i\n",
    "\n",
    "  sorted_keyword = sorted(key)\n",
    "\n",
    "  # menyesuaikan dengan huruf dalam cipher dengan variabel new_l\n",
    "  dict_new = {}\n",
    "  for i,j in zip(sorted_keyword,new_l):\n",
    "    dict_new[i] = j\n",
    "\n",
    "  s = \"\"\n",
    "  for i in zip_longest(*[dict_new[i] for i in key], fillvalue=\"\"):\n",
    "    s += \"\".join(i)\n",
    "\n",
    "  l = []\n",
    "  for i in range(int(m/2)):\n",
    "    l.append(s[2*i:2*i+2])\n",
    "\n",
    "\n",
    "  alp =      [[\"8\",\"p\",\"3\",\"d\",\"1\",\"n\"],\n",
    "              [\"l\",\"t\",\"4\",\"o\",\"a\",\"h\"],\n",
    "              [\"7\",\"k\",\"b\",\"c\",\"5\",\"z\"],\n",
    "              [\"j\",\"u\",\"6\",\"w\",\"g\",\"m\"],\n",
    "              [\"x\",\"s\",\"v\",\"i\",\"r\",\"2\"],\n",
    "              [\"9\",\"e\",\"y\",\"0\",\"f\",\"q\"]]\n",
    "\n",
    "  print(\"Plaintext \\t: \", end= \"\")\n",
    "\n",
    "  dict = {}\n",
    "  acuan_cipher = \"ADFGVX\"\n",
    "\n",
    "  for i in range(len(alp)):\n",
    "    for j in range(len(alp)):\n",
    "      dict[acuan_cipher[i]+acuan_cipher[j]] = alp[i][j]\n",
    "\n",
    "  final = print(\"\".join([dict[i] for i in l]))\n",
    "  return final\n",
    "\n",
    "# main\n",
    "cpr = input(\"Ciphertext \\t: \")\n",
    "keyy = input(\"Key \\t\\t: \").lower().replace(\" \",\"\")\n",
    "decode(cpr,keyy)"
   ]
  }
 ],
 "metadata": {
  "kernelspec": {
   "display_name": ".venv",
   "language": "python",
   "name": "python3"
  },
  "language_info": {
   "codemirror_mode": {
    "name": "ipython",
    "version": 3
   },
   "file_extension": ".py",
   "mimetype": "text/x-python",
   "name": "python",
   "nbconvert_exporter": "python",
   "pygments_lexer": "ipython3",
   "version": "3.11.5"
  }
 },
 "nbformat": 4,
 "nbformat_minor": 2
}
