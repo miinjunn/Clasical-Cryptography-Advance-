{
 "cells": [
  {
   "cell_type": "markdown",
   "metadata": {},
   "source": [
    "## **Enkripsi** <br>\n",
    "\n",
    "> Ekspektasi: <br>\n",
    "plain : we are discovered flee at once <br>\n",
    "key-1 : zebras <br>\n",
    "key-2 : stripe <br>\n",
    "\n",
    "> ciphertext: ASFCENXRERXEOEELTXDIECEOXVDAXW"
   ]
  },
  {
   "cell_type": "code",
   "execution_count": 1,
   "metadata": {},
   "outputs": [
    {
     "name": "stdout",
     "output_type": "stream",
     "text": [
      "----------------------------------------------------------\n",
      "Ciphertext \t: ASFCENXRERXEOEELTXDIECEOXVDAXW\n"
     ]
    }
   ],
   "source": [
    "import math \n",
    "\n",
    "def encryptMessage(msg,key): \n",
    "    cipher = \"\" \n",
    "  \n",
    "    # track key indices \n",
    "    index = 0\n",
    "  \n",
    "    msg_len = float(len(msg)) \n",
    "    msg_list = list(msg) \n",
    "    key_list = sorted(list(key)) \n",
    "  \n",
    "    # matrix row x col\n",
    "    col = len(key) \n",
    "    row = int(math.ceil(msg_len / col)) \n",
    "  \n",
    "    # menambahkan padding dengan huruf 'X'\n",
    "    padding = int((row * col) - msg_len) \n",
    "    msg_list.extend('X' * padding) \n",
    "  \n",
    "    # buat matrix \n",
    "    matrix = [msg_list[i: i + col] for i in range(0, len(msg_list), col)] \n",
    "  \n",
    "    # read matrix\n",
    "    for _ in range(col): \n",
    "        curr_idx = key.index(key_list[index]) \n",
    "        cipher += ''.join([row[curr_idx] for row in matrix])\n",
    "        index += 1\n",
    "    return cipher \n",
    "\n",
    "\n",
    "# main\n",
    "msg = input(\"Plaintext \\t: \").upper().replace(\" \",\"\")\n",
    "key_1 = input(\"key-1 \\t\\t: \").upper()\n",
    "key_2 = input(\"key-2 \\t\\t: \").upper()\n",
    "print(\"----------------------------------------------------------\")\n",
    "\n",
    "cipher_1 = encryptMessage(msg,key_1)\n",
    "cipher_2 = encryptMessage(cipher_1,key_2)\n",
    "print(\"Ciphertext \\t:\", cipher_2)"
   ]
  },
  {
   "cell_type": "markdown",
   "metadata": {},
   "source": [
    "## **Dekripsi** <br>\n",
    "\n",
    "> Ekspektasi: <br>\n",
    "Ciphertext \t: ASFCENXRERXEOEELTXDIECEOXVDAXW <br>\n",
    "key-1 \t\t: zebras <br>\n",
    "key-2 \t\t: stripe <br>\n",
    "\n",
    "> Plaintext \t: WEAREDISCOVEREDFLEEATONCEXXXXX"
   ]
  },
  {
   "cell_type": "code",
   "execution_count": 2,
   "metadata": {},
   "outputs": [
    {
     "name": "stdout",
     "output_type": "stream",
     "text": [
      "----------------------------------------------------------\n",
      "Plaintext \t: WEAREDISCOVEREDFLEEATONCEXXXXX\n"
     ]
    }
   ],
   "source": [
    "def decryptMessage(cipher,key, flag = 0): \n",
    "    plain = \"\" \n",
    "  \n",
    "    # track key indices \n",
    "    index = 0\n",
    "  \n",
    "    # track pesan \n",
    "    msg_indx = 0\n",
    "    msg_len = float(len(cipher))\n",
    "    msg_list = list(cipher)\n",
    "  \n",
    "    # hitung col matrix \n",
    "    col = len(key) \n",
    "    row = int(math.ceil(msg_len / col)) \n",
    "  \n",
    "    # sorting kecil ke besar\n",
    "    # character berdasarkan alfabet\n",
    "    key_list = sorted(list(key)) \n",
    "  \n",
    "    # matrix untuk dekrip\n",
    "    deciphered = []\n",
    "\n",
    "    for _ in range(row): \n",
    "      deciphered += [[None] * col]\n",
    "  \n",
    "    # arrange matrix column wise\\\n",
    "    # berdasarkan urutan permutasi\n",
    "    # disimpan pada var 'deciphered'\n",
    "    for _ in range(col): \n",
    "      curr_idx = key.index(key_list[index])\n",
    "\n",
    "      for j in range(row): \n",
    "        deciphered[j][curr_idx] = msg_list[msg_indx] \n",
    "        msg_indx += 1\n",
    "      index += 1\n",
    "\n",
    "    # convert decrypted msg matrix into a string \n",
    "    try: \n",
    "      plain = ''.join(sum(deciphered, [])) \n",
    "    except TypeError: \n",
    "      raise TypeError(\"Maaf, error.\")\n",
    "    if flag == 1:\n",
    "      return plain\n",
    "    \n",
    "    else:\n",
    "      null_count = plain.count('_')\n",
    "      if null_count > 0: \n",
    "        return plain[: -null_count] \n",
    "    return plain\n",
    "\n",
    "# main\n",
    "cipher=input(\"Ciphertext \\t: \").upper().replace(\" \",\"\")\n",
    "key_1 = input(\"key-1 \\t\\t: \").upper()\n",
    "key_2 = input(\"key-2 \\t\\t: \").upper()\n",
    "print(\"----------------------------------------------------------\")\n",
    "pln_1 = decryptMessage(cipher,key_2,1)\n",
    "pln_2 = decryptMessage(pln_1,key_1)\n",
    "print(\"Plaintext \\t:\", pln_2)"
   ]
  }
 ],
 "metadata": {
  "kernelspec": {
   "display_name": "Python 3",
   "language": "python",
   "name": "python3"
  },
  "language_info": {
   "codemirror_mode": {
    "name": "ipython",
    "version": 3
   },
   "file_extension": ".py",
   "mimetype": "text/x-python",
   "name": "python",
   "nbconvert_exporter": "python",
   "pygments_lexer": "ipython3",
   "version": "3.11.5"
  }
 },
 "nbformat": 4,
 "nbformat_minor": 2
}
